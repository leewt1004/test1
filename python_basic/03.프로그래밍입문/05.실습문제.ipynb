{
 "cells": [
  {
   "cell_type": "code",
   "execution_count": 16,
   "metadata": {},
   "outputs": [
    {
     "name": "stdout",
     "output_type": "stream",
     "text": [
      "이름 - 유미\n",
      "레벨 - 6\n",
      "체력 - 950\n",
      "대사 - 나랑 유미랑!\n"
     ]
    }
   ],
   "source": [
    "# 실습문제 1\n",
    "champ_name = \"유미\"\n",
    "champ_level = 6\n",
    "champ_hp = 950\n",
    "champ_msg = \"나랑 유미랑!\"\n",
    "\n",
    "print(\"이름 - \" + champ_name)\n",
    "print(\"레벨 - \" + str(champ_level))\n",
    "print(\"체력 - \" + str(champ_hp))\n",
    "print(\"대사 - \" + champ_msg)"
   ]
  },
  {
   "cell_type": "code",
   "execution_count": null,
   "metadata": {},
   "outputs": [
    {
     "name": "stdout",
     "output_type": "stream",
     "text": [
      "받아라 몬스터볼~! 파이리 넌 내꺼야!\n",
      "받아라 몬스터볼~! 파이리 넌 내꺼야!\n"
     ]
    },
    {
     "data": {
      "text/plain": [
       "' 문자열과 변수를 합쳐서 새로움 문자열을 만들고 싶을 때 사용'"
      ]
     },
     "execution_count": 18,
     "metadata": {},
     "output_type": "execute_result"
    }
   ],
   "source": [
    "# 실습문제 2\n",
    "pokemon_name = input()\n",
    "print(\"받아라 몬스터볼~!\", pokemon_name, \"넌 내꺼야!\")\n",
    "print(f\"받아라 몬스터볼~! {pokemon_name} 넌 내꺼야!\") # f-string : 문자열과 변수를 합쳐서 새로운 문자열을 만들고 싶을 때 사용"
   ]
  },
  {
   "cell_type": "code",
   "execution_count": 20,
   "metadata": {},
   "outputs": [
    {
     "name": "stdout",
     "output_type": "stream",
     "text": [
      "[포켓몬 정보]\n",
      "이름 : 이상해씨\n",
      "레벨 : 8\n"
     ]
    }
   ],
   "source": [
    "# 실습문제 3\n",
    "pokemon_name = input(\"포켓몬 이름을 입력하세요 : \")\n",
    "pokemon_level = int(input(\"레벨을 입력하세요 : \"))\n",
    "\n",
    "print(\"[포켓몬 정보]\")\n",
    "print(f\"이름 : {pokemon_name}\")\n",
    "print(f\"레벨 : {pokemon_level}\")"
   ]
  },
  {
   "cell_type": "code",
   "execution_count": null,
   "metadata": {},
   "outputs": [],
   "source": []
  }
 ],
 "metadata": {
  "kernelspec": {
   "display_name": "Python 3",
   "language": "python",
   "name": "python3"
  },
  "language_info": {
   "codemirror_mode": {
    "name": "ipython",
    "version": 3
   },
   "file_extension": ".py",
   "mimetype": "text/x-python",
   "name": "python",
   "nbconvert_exporter": "python",
   "pygments_lexer": "ipython3",
   "version": "3.12.8"
  }
 },
 "nbformat": 4,
 "nbformat_minor": 2
}
