{
 "cells": [
  {
   "cell_type": "code",
   "execution_count": 1,
   "metadata": {},
   "outputs": [
    {
     "data": {
      "text/plain": [
       "'\\nnum_list = [1,2,3,4,5,6,7,8]\\nnum_list[start : end]\\nnum_list[start : end : step]\\n'"
      ]
     },
     "execution_count": 1,
     "metadata": {},
     "output_type": "execute_result"
    }
   ],
   "source": [
    "# 리스트\n",
    "\"\"\"\n",
    "여러개의 데이터를 저장할 수 있는 자료형\n",
    "데이터가 마음껏 타고 내릴 수 있는 기차\n",
    "\"\"\""
   ]
  },
  {
   "cell_type": "code",
   "execution_count": 3,
   "metadata": {},
   "outputs": [
    {
     "name": "stdout",
     "output_type": "stream",
     "text": [
      "['삼성전자', 'SK하이닉스', '네이버']\n"
     ]
    }
   ],
   "source": [
    "# 리스트 만드는 법법\n",
    "company_list = [\"삼성전자\", \"SK하이닉스\", \"네이버\"]\n",
    "print(company_list)"
   ]
  },
  {
   "cell_type": "code",
   "execution_count": 8,
   "metadata": {},
   "outputs": [
    {
     "name": "stdout",
     "output_type": "stream",
     "text": [
      "삼성전자\n",
      "SK하이닉스\n",
      "네이버\n"
     ]
    }
   ],
   "source": [
    "# 데이터에 접근하기(인덱싱, Indexing)\n",
    "print(company_list[0])\n",
    "print(company_list[1])\n",
    "print(company_list[-1]) # -1은 마지막 원소를 찾는 것"
   ]
  },
  {
   "cell_type": "code",
   "execution_count": 9,
   "metadata": {},
   "outputs": [
    {
     "name": "stdout",
     "output_type": "stream",
     "text": [
      "['애플', '구글', '테슬라']\n"
     ]
    }
   ],
   "source": [
    "# 데이터 할당하기\n",
    "company_list[0] = \"애플\"\n",
    "company_list[1] = \"구글\"\n",
    "company_list[2] = \"테슬라\"\n",
    "\n",
    "print(company_list)"
   ]
  },
  {
   "cell_type": "code",
   "execution_count": 10,
   "metadata": {},
   "outputs": [
    {
     "name": "stdout",
     "output_type": "stream",
     "text": [
      "['애플', '구글', '테슬라', '마이크로소프트']\n"
     ]
    }
   ],
   "source": [
    "# 데이터에 추가하기\n",
    "company_list.append(\"마이크로소프트\")\n",
    "\n",
    "print(company_list)"
   ]
  },
  {
   "cell_type": "code",
   "execution_count": 11,
   "metadata": {},
   "outputs": [
    {
     "name": "stdout",
     "output_type": "stream",
     "text": [
      "['구글', '테슬라', '마이크로소프트']\n"
     ]
    }
   ],
   "source": [
    "# 데이터 삭제하기\n",
    "del company_list[0]\n",
    "\n",
    "print(company_list)"
   ]
  },
  {
   "cell_type": "code",
   "execution_count": 14,
   "metadata": {},
   "outputs": [
    {
     "data": {
      "text/plain": [
       "3"
      ]
     },
     "execution_count": 14,
     "metadata": {},
     "output_type": "execute_result"
    }
   ],
   "source": [
    "# 리스트 길이\n",
    "len(company_list)"
   ]
  },
  {
   "cell_type": "code",
   "execution_count": 20,
   "metadata": {},
   "outputs": [
    {
     "data": {
      "text/plain": [
       "[1, 3, 5, 7]"
      ]
     },
     "execution_count": 20,
     "metadata": {},
     "output_type": "execute_result"
    }
   ],
   "source": [
    "# 리스트 슬라이싱(Slicing)\n",
    "num_list = [1, 2, 3, 4, 5, 6, 7, 8]\n",
    "\n",
    "num_list[0:2]\n",
    "num_list[:2]    # 0은 생략할 수 있음\n",
    "\n",
    "num_list[1:4]\n",
    "\n",
    "num_list[3:8]\n",
    "num_list[3:]    # 마지막은 생략 가능\n",
    "\n",
    "num_list[::2]\n"
   ]
  },
  {
   "cell_type": "code",
   "execution_count": 22,
   "metadata": {},
   "outputs": [
    {
     "name": "stdout",
     "output_type": "stream",
     "text": [
      "대검을(를) 확인했습니다.\n",
      "창닫기\n",
      "\n",
      "포션을(를) 확인했습니다.\n",
      "창닫기\n",
      "\n",
      "마법서을(를) 확인했습니다.\n",
      "창닫기\n",
      "\n"
     ]
    }
   ],
   "source": [
    "# 리스트와 반복문\n",
    "inventory = [\"대검\", \"포션\", \"마법서\"]\n",
    "\n",
    "for item in inventory :\n",
    "    print(item + \"을(를) 확인했습니다.\")\n",
    "    print(\"창닫기\\n\")"
   ]
  },
  {
   "cell_type": "code",
   "execution_count": 25,
   "metadata": {},
   "outputs": [
    {
     "name": "stdout",
     "output_type": "stream",
     "text": [
      "None\n",
      "포션\n",
      "열쇠\n"
     ]
    }
   ],
   "source": [
    "# 2차원 리스트\n",
    "game_map = [\n",
    "    [\"대검\", \"포션\", None],\n",
    "    [None, \"보물상자\", \"포션\"],\n",
    "    [\"몬스터\", None, \"열쇠\"]\n",
    "]\n",
    "\n",
    "print(game_map[0][2])\n",
    "print(game_map[1][2])\n",
    "print(game_map[2][2])"
   ]
  },
  {
   "cell_type": "code",
   "execution_count": 38,
   "metadata": {},
   "outputs": [
    {
     "name": "stdout",
     "output_type": "stream",
     "text": [
      "최고점수 : 200 \n",
      "200\n",
      "820\n"
     ]
    }
   ],
   "source": [
    "# 실습문제 10\n",
    "\"\"\"\n",
    "게임에서 플레이어가 얻은 점수들을 가진 scores 리스트가 있다. 가장 높은 점수를 찾는 프로그램을 작성해 보세요.\n",
    "scores = [120, 150, 180, 200, 170]\n",
    "힌트) max_score 변수를 하나 생성해 준다.\n",
    "\"\"\"\n",
    "\n",
    "scores = [120, 150, 180, 200, 170]\n",
    "\n",
    "max_score = 0\n",
    "for score in scores :\n",
    "    if score > max_score :\n",
    "        max_score = score\n",
    "print(f\"최고점수 : {max_score} \")\n",
    "\n",
    "# 내장함수 이용\n",
    "print(max(scores))\n",
    "print(sum(scores))"
   ]
  },
  {
   "cell_type": "code",
   "execution_count": 43,
   "metadata": {},
   "outputs": [
    {
     "name": "stdout",
     "output_type": "stream",
     "text": [
      "15\n"
     ]
    }
   ],
   "source": [
    "# 실습문제 11\n",
    "\"\"\"\n",
    "게임에서 각 방에 숨겨진 아이템 개수를 나타내는 2차원 리스트가 있다.\n",
    "모든 방을 돌아다니며 아이템을 수집하는 프로그램을 작성하세요.\n",
    "아이템이 없는 방은 0으로 표시된다.\n",
    "\n",
    "room = [\n",
    "    [3,1,2],\n",
    "    [2,0,1],\n",
    "    [1,3,2]\n",
    "]\n",
    "\n",
    "힌트) sum(리스트)는 리스트의 합계를 계산해 준다.\n",
    "\"\"\"\n",
    "\n",
    "room = [\n",
    "    [3,1,2],\n",
    "    [2,0,1],\n",
    "    [1,3,2]\n",
    "]\n",
    "\n",
    "total = 0\n",
    "for room in room :\n",
    "    total += sum(room)\n",
    "print(total)"
   ]
  },
  {
   "cell_type": "code",
   "execution_count": null,
   "metadata": {},
   "outputs": [],
   "source": []
  }
 ],
 "metadata": {
  "kernelspec": {
   "display_name": "Python 3",
   "language": "python",
   "name": "python3"
  },
  "language_info": {
   "codemirror_mode": {
    "name": "ipython",
    "version": 3
   },
   "file_extension": ".py",
   "mimetype": "text/x-python",
   "name": "python",
   "nbconvert_exporter": "python",
   "pygments_lexer": "ipython3",
   "version": "3.12.8"
  }
 },
 "nbformat": 4,
 "nbformat_minor": 2
}
