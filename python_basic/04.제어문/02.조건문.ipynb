{
 "cells": [
  {
   "cell_type": "code",
   "execution_count": 2,
   "metadata": {},
   "outputs": [],
   "source": [
    "origin_pass = \"1234\"\n",
    "input_pass = input()\n",
    "\n",
    "if origin_pass == input_pass :\n",
    "    print(\"로그인 성공\")"
   ]
  },
  {
   "cell_type": "code",
   "execution_count": 3,
   "metadata": {},
   "outputs": [
    {
     "name": "stdout",
     "output_type": "stream",
     "text": [
      "로그인 실패\n"
     ]
    }
   ],
   "source": [
    "origin_pass = \"1234\"\n",
    "input_pass = input()\n",
    "\n",
    "if origin_pass == input_pass :\n",
    "    print(\"로그인 성공\")\n",
    "else :\n",
    "    print(\"로그인 실패\")"
   ]
  },
  {
   "cell_type": "code",
   "execution_count": 4,
   "metadata": {},
   "outputs": [
    {
     "name": "stdout",
     "output_type": "stream",
     "text": [
      "비밀번호를 입력하세요\n"
     ]
    }
   ],
   "source": [
    "origin_pass = \"1234\"\n",
    "input_pass = input()\n",
    "\n",
    "if origin_pass == input_pass :\n",
    "    print(\"로그인 성공\")\n",
    "elif input_pass == \"\" :\n",
    "    print(\"비밀번호를 입력하세요\")\n",
    "else :\n",
    "    print(\"로그인 실패\")"
   ]
  },
  {
   "cell_type": "code",
   "execution_count": 5,
   "metadata": {},
   "outputs": [
    {
     "name": "stdout",
     "output_type": "stream",
     "text": [
      "수익 창출이 가능합니다.\n"
     ]
    }
   ],
   "source": [
    "# 실습문제 4\n",
    "sub_cnt = int(input(\"현재 구독자 수를 입력하세요 : \"))\n",
    "\n",
    "if sub_cnt >= 1000 :\n",
    "    print(\"수익 창출이 가능합니다.\")\n",
    "\n",
    "else : \n",
    "    print(\"수익 창출이 불가능합니다.\")"
   ]
  },
  {
   "cell_type": "code",
   "execution_count": 6,
   "metadata": {},
   "outputs": [
    {
     "name": "stdout",
     "output_type": "stream",
     "text": [
      "휴대폰을 30분간 사용가능합니다.\n"
     ]
    }
   ],
   "source": [
    "# 실습문제 5\n",
    "study_time = int(input(\"공부시간을 입력하세요 : \"))\n",
    "\n",
    "if study_time >= 10 :\n",
    "    print(\"휴대폰 잠금이 해제 됩니다.\")\n",
    "\n",
    "elif study_time >= 5 :\n",
    "    print(\"휴대폰을 30분간 사용가능합니다.\")\n",
    "\n",
    "else :\n",
    "    print(\"휴대폰 사용이 불가능합니다.\")"
   ]
  },
  {
   "cell_type": "code",
   "execution_count": null,
   "metadata": {},
   "outputs": [],
   "source": []
  }
 ],
 "metadata": {
  "kernelspec": {
   "display_name": "Python 3",
   "language": "python",
   "name": "python3"
  },
  "language_info": {
   "codemirror_mode": {
    "name": "ipython",
    "version": 3
   },
   "file_extension": ".py",
   "mimetype": "text/x-python",
   "name": "python",
   "nbconvert_exporter": "python",
   "pygments_lexer": "ipython3",
   "version": "3.12.8"
  }
 },
 "nbformat": 4,
 "nbformat_minor": 2
}
