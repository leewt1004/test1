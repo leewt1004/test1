{
 "cells": [
  {
   "cell_type": "code",
   "execution_count": 5,
   "metadata": {},
   "outputs": [
    {
     "name": "stdout",
     "output_type": "stream",
     "text": [
      "수익 창출이 가능합니다.\n"
     ]
    }
   ],
   "source": [
    "# 반복문 : 명령을 반복해서 수행하게 만들 때 사용하는 문법\n",
    "\"\"\"\n",
    "for문 : 반복 횟수가 정해져 있을 때\n",
    "while문 : 반복 횟수가 정해져 있지 않을 때\n",
    "\"\"\""
   ]
  },
  {
   "cell_type": "code",
   "execution_count": 1,
   "metadata": {},
   "outputs": [
    {
     "name": "stdout",
     "output_type": "stream",
     "text": [
      "말티즈\n",
      "말티즈\n",
      "말티즈\n"
     ]
    }
   ],
   "source": [
    "# for문문\n",
    "for i in range(3) :\n",
    "    print(\"말티즈\")"
   ]
  },
  {
   "cell_type": "code",
   "execution_count": 2,
   "metadata": {},
   "outputs": [
    {
     "name": "stdout",
     "output_type": "stream",
     "text": [
      "푸들\n",
      "포메라니안\n",
      "푸들\n",
      "포메라니안\n",
      "푸들\n",
      "포메라니안\n"
     ]
    }
   ],
   "source": [
    "for i in range(3) :\n",
    "    print(\"푸들\")\n",
    "    print(\"포메라니안\")"
   ]
  },
  {
   "cell_type": "code",
   "execution_count": 3,
   "metadata": {},
   "outputs": [
    {
     "name": "stdout",
     "output_type": "stream",
     "text": [
      "0\n",
      "1\n",
      "2\n"
     ]
    }
   ],
   "source": [
    "for i in range(3) :\n",
    "    print(i)"
   ]
  },
  {
   "cell_type": "code",
   "execution_count": 5,
   "metadata": {},
   "outputs": [
    {
     "name": "stdout",
     "output_type": "stream",
     "text": [
      "1번 과제 시작\n",
      "과제 완료\n",
      "2번 과제 시작\n",
      "과제 완료\n",
      "3번 과제 시작\n",
      "과제 완료\n"
     ]
    }
   ],
   "source": [
    "for i in range(3) :\n",
    "    print(f\"{i + 1}번 과제 시작\")\n",
    "    print(\"과제 완료\")"
   ]
  },
  {
   "cell_type": "code",
   "execution_count": 6,
   "metadata": {},
   "outputs": [
    {
     "name": "stdout",
     "output_type": "stream",
     "text": [
      "1\n",
      "2\n",
      "3\n"
     ]
    }
   ],
   "source": [
    "for i in range(1, 4) :\n",
    "    print(i)"
   ]
  },
  {
   "cell_type": "code",
   "execution_count": 7,
   "metadata": {},
   "outputs": [
    {
     "name": "stdout",
     "output_type": "stream",
     "text": [
      "1\n",
      "3\n",
      "5\n",
      "7\n",
      "9\n"
     ]
    }
   ],
   "source": [
    "for i in range(1, 10, 2) :\n",
    "    print(i)"
   ]
  },
  {
   "cell_type": "code",
   "execution_count": 10,
   "metadata": {},
   "outputs": [
    {
     "name": "stdout",
     "output_type": "stream",
     "text": [
      "1번째 강아지\n",
      "강아지를 위한 장난감 준비 중\n",
      "장난감 준비 완료\n",
      "\n",
      "2번째 강아지\n",
      "강아지를 위한 장난감 준비 중\n",
      "장난감 준비 완료\n",
      "\n",
      "3번째 강아지\n",
      "강아지를 위한 장난감 준비 중\n",
      "장난감 준비 완료\n",
      "\n"
     ]
    }
   ],
   "source": [
    "# 실습문제 6\n",
    "for i in range(1, 4) :\n",
    "    print(f\"{i}번째 강아지\")\n",
    "    print(\"강아지를 위한 장난감 준비 중\")\n",
    "    print(\"장난감 준비 완료\\n\")"
   ]
  },
  {
   "cell_type": "code",
   "execution_count": 24,
   "metadata": {},
   "outputs": [
    {
     "name": "stdout",
     "output_type": "stream",
     "text": [
      "55\n"
     ]
    }
   ],
   "source": [
    "# 실습문제 7 - 도전!\n",
    "\"\"\"\n",
    "for문을 사용해서 1부터 10까지 합계를 계산해주는 프로그램을 작성해보자.\n",
    "힌트) 합계를 저장할 변수(total)를 하나 생성해 준다\n",
    "\"\"\"\n",
    "\n",
    "total = 0\n",
    "for i in range(1, 11) :\n",
    "    total += i # 복합 할당 연산자 total = total + i\n",
    "print(total)\n"
   ]
  },
  {
   "cell_type": "code",
   "execution_count": 26,
   "metadata": {},
   "outputs": [
    {
     "data": {
      "text/plain": [
       "'\\n산술연산과 할당 연산을 합친 것\\n\\n산술연산 + 할당연산\\na = a + b\\na = a - b\\na = a * b\\na = a / b\\n'"
      ]
     },
     "execution_count": 26,
     "metadata": {},
     "output_type": "execute_result"
    }
   ],
   "source": [
    "# 복합 할당 연산자\n",
    "\"\"\"\n",
    "산술연산과 할당 연산을 합친 것\n",
    "\n",
    "산술연산 + 할당연산     복합 할당 연산\n",
    "a = a + b               a += b\n",
    "a = a - b               a -= b\n",
    "a = a * b               a *= b\n",
    "a = a / b               a /= b\n",
    "\"\"\""
   ]
  },
  {
   "cell_type": "code",
   "execution_count": null,
   "metadata": {},
   "outputs": [],
   "source": []
  },
  {
   "cell_type": "code",
   "execution_count": 31,
   "metadata": {},
   "outputs": [
    {
     "name": "stdout",
     "output_type": "stream",
     "text": [
      "hello\n",
      "hello\n",
      "hello\n"
     ]
    }
   ],
   "source": [
    "# while문\n",
    "i = 0\n",
    "while i < 3 :\n",
    "    print(\"hello\")\n",
    "    i += 1"
   ]
  },
  {
   "cell_type": "code",
   "execution_count": 32,
   "metadata": {},
   "outputs": [
    {
     "name": "stdout",
     "output_type": "stream",
     "text": [
      "7 * 1 = 7\n",
      "7 * 2 = 14\n",
      "7 * 3 = 21\n",
      "7 * 4 = 28\n",
      "7 * 5 = 35\n",
      "7 * 6 = 42\n",
      "7 * 7 = 49\n",
      "7 * 8 = 56\n",
      "7 * 9 = 63\n"
     ]
    }
   ],
   "source": [
    "# 실습문제 8\n",
    "x = int(input(\"몇 단을 출력할까요 ? \"))\n",
    "\n",
    "for i in range(1, 10):\n",
    "    print(f\"{x} * {i} = {x * i}\")"
   ]
  },
  {
   "cell_type": "code",
   "execution_count": 34,
   "metadata": {},
   "outputs": [
    {
     "name": "stdout",
     "output_type": "stream",
     "text": [
      "7 * 1 = 7\n",
      "7 * 2 = 14\n",
      "7 * 3 = 21\n",
      "7 * 4 = 28\n",
      "7 * 5 = 35\n",
      "7 * 6 = 42\n",
      "7 * 7 = 49\n",
      "7 * 8 = 56\n",
      "7 * 9 = 63\n"
     ]
    }
   ],
   "source": [
    "x = int(input(\"몇 단을 출력할까요 ? \"))\n",
    "\n",
    "i = 1\n",
    "while i <= 9 :\n",
    "    print(f\"{x} * {i} = {x * i}\")\n",
    "    i += 1"
   ]
  },
  {
   "cell_type": "code",
   "execution_count": 1,
   "metadata": {},
   "outputs": [
    {
     "name": "stdout",
     "output_type": "stream",
     "text": [
      "로그인 실패!\n",
      "로그인 실패!\n",
      "로그인 성공!\n"
     ]
    }
   ],
   "source": [
    "# 무한 반복문\n",
    "\"\"\"\n",
    "while True :\n",
    "    반복할 명령\n",
    "    if 조건 : \n",
    "        break\n",
    "        : 가장 가까운 반복문을 종료하는 명령어어\n",
    "\"\"\"\n",
    "\n",
    "origin_pass = \"1234\"\n",
    "while True :\n",
    "    input_pass = input(\"비밀번호를 입력하세요 : \")\n",
    "    if origin_pass == input_pass :\n",
    "        print(\"로그인 성공!\")\n",
    "        break\n",
    "    else : \n",
    "        print(\"로그인 실패!\")"
   ]
  },
  {
   "cell_type": "code",
   "execution_count": null,
   "metadata": {},
   "outputs": [],
   "source": []
  }
 ],
 "metadata": {
  "kernelspec": {
   "display_name": "Python 3",
   "language": "python",
   "name": "python3"
  },
  "language_info": {
   "codemirror_mode": {
    "name": "ipython",
    "version": 3
   },
   "file_extension": ".py",
   "mimetype": "text/x-python",
   "name": "python",
   "nbconvert_exporter": "python",
   "pygments_lexer": "ipython3",
   "version": "3.12.8"
  }
 },
 "nbformat": 4,
 "nbformat_minor": 2
}
